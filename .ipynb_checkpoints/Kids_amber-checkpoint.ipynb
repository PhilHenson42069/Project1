{
 "cells": [
  {
   "cell_type": "code",
   "execution_count": 1,
   "metadata": {},
   "outputs": [],
   "source": [
    "import csv\n",
    "import os\n",
    "import pandas as pd\n",
    "import matplotlib.pyplot as plt\n",
    "import scipy.stats as sts\n",
    "import numpy as np\n",
    "# %matplotlib notebook"
   ]
  },
  {
   "cell_type": "code",
   "execution_count": 2,
   "metadata": {},
   "outputs": [
    {
     "data": {
      "text/plain": [
       "(948, 46)"
      ]
     },
     "execution_count": 2,
     "metadata": {},
     "output_type": "execute_result"
    }
   ],
   "source": [
    "csvdata = 'Food_Access_USDA.csv'\n",
    "df = pd.read_csv(csvdata)\n",
    "df.shape"
   ]
  },
  {
   "cell_type": "code",
   "execution_count": 3,
   "metadata": {
    "scrolled": false
   },
   "outputs": [
    {
     "data": {
      "text/html": [
       "<div>\n",
       "<style scoped>\n",
       "    .dataframe tbody tr th:only-of-type {\n",
       "        vertical-align: middle;\n",
       "    }\n",
       "\n",
       "    .dataframe tbody tr th {\n",
       "        vertical-align: top;\n",
       "    }\n",
       "\n",
       "    .dataframe thead th {\n",
       "        text-align: right;\n",
       "    }\n",
       "</style>\n",
       "<table border=\"1\" class=\"dataframe\">\n",
       "  <thead>\n",
       "    <tr style=\"text-align: right;\">\n",
       "      <th></th>\n",
       "      <th>OBJECTID</th>\n",
       "      <th>GEOID10</th>\n",
       "      <th>NAME10</th>\n",
       "      <th>PLNG_REGION</th>\n",
       "      <th>LILATracts_1And10</th>\n",
       "      <th>LILATracts_halfAnd10</th>\n",
       "      <th>LILATracts_1And20</th>\n",
       "      <th>LILATracts_Vehicle</th>\n",
       "      <th>Urban</th>\n",
       "      <th>Rural</th>\n",
       "      <th>...</th>\n",
       "      <th>lapop1share</th>\n",
       "      <th>lalowi1</th>\n",
       "      <th>lalowi1share</th>\n",
       "      <th>lakids1</th>\n",
       "      <th>lakids1share</th>\n",
       "      <th>laseniors1</th>\n",
       "      <th>laseniors1share</th>\n",
       "      <th>lahunv1</th>\n",
       "      <th>lahunv1share</th>\n",
       "      <th>GlobalID</th>\n",
       "    </tr>\n",
       "  </thead>\n",
       "  <tbody>\n",
       "    <tr>\n",
       "      <th>0</th>\n",
       "      <td>1</td>\n",
       "      <td>13045910103</td>\n",
       "      <td>9101.03</td>\n",
       "      <td>ARC 20</td>\n",
       "      <td>0</td>\n",
       "      <td>0</td>\n",
       "      <td>0</td>\n",
       "      <td>0</td>\n",
       "      <td>0</td>\n",
       "      <td>1</td>\n",
       "      <td>...</td>\n",
       "      <td>0.830444</td>\n",
       "      <td>832.244207</td>\n",
       "      <td>0.165786</td>\n",
       "      <td>1212.092423</td>\n",
       "      <td>0.812939</td>\n",
       "      <td>388.429152</td>\n",
       "      <td>0.868969</td>\n",
       "      <td>30.598599</td>\n",
       "      <td>0.017656</td>\n",
       "      <td>{5550A054-FDCE-4733-8B0C-A1947228CE5D}</td>\n",
       "    </tr>\n",
       "    <tr>\n",
       "      <th>1</th>\n",
       "      <td>2</td>\n",
       "      <td>13045910104</td>\n",
       "      <td>9101.04</td>\n",
       "      <td>ARC 20</td>\n",
       "      <td>0</td>\n",
       "      <td>0</td>\n",
       "      <td>0</td>\n",
       "      <td>0</td>\n",
       "      <td>1</td>\n",
       "      <td>0</td>\n",
       "      <td>...</td>\n",
       "      <td>0.908498</td>\n",
       "      <td>2714.580415</td>\n",
       "      <td>0.292740</td>\n",
       "      <td>2531.804935</td>\n",
       "      <td>0.935281</td>\n",
       "      <td>613.913957</td>\n",
       "      <td>0.769316</td>\n",
       "      <td>105.395259</td>\n",
       "      <td>0.033133</td>\n",
       "      <td>{C6FF347E-7A0E-49CC-95F8-6442CAB49326}</td>\n",
       "    </tr>\n",
       "    <tr>\n",
       "      <th>2</th>\n",
       "      <td>3</td>\n",
       "      <td>13045910502</td>\n",
       "      <td>9105.02</td>\n",
       "      <td>ARC 20</td>\n",
       "      <td>1</td>\n",
       "      <td>1</td>\n",
       "      <td>1</td>\n",
       "      <td>1</td>\n",
       "      <td>1</td>\n",
       "      <td>0</td>\n",
       "      <td>...</td>\n",
       "      <td>0.677910</td>\n",
       "      <td>1634.143695</td>\n",
       "      <td>0.559638</td>\n",
       "      <td>394.285953</td>\n",
       "      <td>0.595598</td>\n",
       "      <td>108.874610</td>\n",
       "      <td>0.513559</td>\n",
       "      <td>141.638535</td>\n",
       "      <td>0.141497</td>\n",
       "      <td>{59E4487C-A509-45FF-95E5-D3C0BBE650BB}</td>\n",
       "    </tr>\n",
       "    <tr>\n",
       "      <th>3</th>\n",
       "      <td>4</td>\n",
       "      <td>13045910800</td>\n",
       "      <td>9108.00</td>\n",
       "      <td>ARC 20</td>\n",
       "      <td>0</td>\n",
       "      <td>0</td>\n",
       "      <td>0</td>\n",
       "      <td>0</td>\n",
       "      <td>0</td>\n",
       "      <td>1</td>\n",
       "      <td>...</td>\n",
       "      <td>1.000000</td>\n",
       "      <td>1557.335152</td>\n",
       "      <td>0.391881</td>\n",
       "      <td>958.000006</td>\n",
       "      <td>1.000000</td>\n",
       "      <td>491.000002</td>\n",
       "      <td>1.000000</td>\n",
       "      <td>41.470898</td>\n",
       "      <td>0.028405</td>\n",
       "      <td>{B14B7E5F-B673-439E-9C6E-638AD0B38A33}</td>\n",
       "    </tr>\n",
       "    <tr>\n",
       "      <th>4</th>\n",
       "      <td>5</td>\n",
       "      <td>13045910101</td>\n",
       "      <td>9101.01</td>\n",
       "      <td>ARC 20</td>\n",
       "      <td>1</td>\n",
       "      <td>1</td>\n",
       "      <td>1</td>\n",
       "      <td>1</td>\n",
       "      <td>1</td>\n",
       "      <td>0</td>\n",
       "      <td>...</td>\n",
       "      <td>0.247035</td>\n",
       "      <td>738.495538</td>\n",
       "      <td>0.124557</td>\n",
       "      <td>400.600253</td>\n",
       "      <td>0.237182</td>\n",
       "      <td>153.517815</td>\n",
       "      <td>0.282722</td>\n",
       "      <td>61.471188</td>\n",
       "      <td>0.027176</td>\n",
       "      <td>{C3D7DA7F-5468-4F0E-A705-CA99B9E57806}</td>\n",
       "    </tr>\n",
       "  </tbody>\n",
       "</table>\n",
       "<p>5 rows × 46 columns</p>\n",
       "</div>"
      ],
      "text/plain": [
       "   OBJECTID      GEOID10   NAME10 PLNG_REGION  LILATracts_1And10  \\\n",
       "0         1  13045910103  9101.03      ARC 20                  0   \n",
       "1         2  13045910104  9101.04      ARC 20                  0   \n",
       "2         3  13045910502  9105.02      ARC 20                  1   \n",
       "3         4  13045910800  9108.00      ARC 20                  0   \n",
       "4         5  13045910101  9101.01      ARC 20                  1   \n",
       "\n",
       "   LILATracts_halfAnd10  LILATracts_1And20  LILATracts_Vehicle  Urban  Rural  \\\n",
       "0                     0                  0                   0      0      1   \n",
       "1                     0                  0                   0      1      0   \n",
       "2                     1                  1                   1      1      0   \n",
       "3                     0                  0                   0      0      1   \n",
       "4                     1                  1                   1      1      0   \n",
       "\n",
       "   ...  lapop1share      lalowi1  lalowi1share      lakids1  lakids1share  \\\n",
       "0  ...     0.830444   832.244207      0.165786  1212.092423      0.812939   \n",
       "1  ...     0.908498  2714.580415      0.292740  2531.804935      0.935281   \n",
       "2  ...     0.677910  1634.143695      0.559638   394.285953      0.595598   \n",
       "3  ...     1.000000  1557.335152      0.391881   958.000006      1.000000   \n",
       "4  ...     0.247035   738.495538      0.124557   400.600253      0.237182   \n",
       "\n",
       "   laseniors1  laseniors1share     lahunv1  lahunv1share  \\\n",
       "0  388.429152         0.868969   30.598599      0.017656   \n",
       "1  613.913957         0.769316  105.395259      0.033133   \n",
       "2  108.874610         0.513559  141.638535      0.141497   \n",
       "3  491.000002         1.000000   41.470898      0.028405   \n",
       "4  153.517815         0.282722   61.471188      0.027176   \n",
       "\n",
       "                                 GlobalID  \n",
       "0  {5550A054-FDCE-4733-8B0C-A1947228CE5D}  \n",
       "1  {C6FF347E-7A0E-49CC-95F8-6442CAB49326}  \n",
       "2  {59E4487C-A509-45FF-95E5-D3C0BBE650BB}  \n",
       "3  {B14B7E5F-B673-439E-9C6E-638AD0B38A33}  \n",
       "4  {C3D7DA7F-5468-4F0E-A705-CA99B9E57806}  \n",
       "\n",
       "[5 rows x 46 columns]"
      ]
     },
     "execution_count": 3,
     "metadata": {},
     "output_type": "execute_result"
    }
   ],
   "source": [
    "df.head(5)"
   ]
  },
  {
   "cell_type": "code",
   "execution_count": 6,
   "metadata": {},
   "outputs": [
    {
     "data": {
      "image/png": "[encoded data removed]",
      "text/plain": [
       "<Figure size 432x288 with 1 Axes>"
      ]
     },
     "metadata": {
      "needs_background": "light"
     },
     "output_type": "display_data"
    }
   ],
   "source": [
    "# Narrow down to urban areas\n",
    "df.loc[(df[\"PLNG_REGION\"] == 'ARC 10') & (df[\"Urban\"] == 1)]\n",
    "# Create three DF's to store different columns\n",
    "kids_df = df[{\"POP2010\",\"PLNG_REGION\",\"Urban\",\"lakidshalf\",\"lakidshalfshare\",\n",
    "              \"lakids1\", \"lakids1share\",\"lalowi1\",\"lalowi1share\",\n",
    "              \"lapop1\",\"lapop1share\", \"LowIncomeTracts\", \"lahunv1share\",\"laseniors1share\"}]\n",
    "# Narrow down to urban areas\n",
    "kids_df_low=kids_df[(df[\"LowIncomeTracts\"] == 1)]\n",
    "kids_df_high=kids_df[(df[\"LowIncomeTracts\"] == 0)]\n",
    "# pull out population count \n",
    "x_low=kids_df_low[\"lapop1share\"]\n",
    "y_low=kids_df_low[\"lahunv1share\"]\n",
    "\n",
    "kidplt=plt.scatter(x_low,y_low, color=\"blue\")\n",
    "plt.xlabel(\"Low access, children age 0-17 at 1 mile, share\")\n",
    "plt.ylabel(\"Population count\")\n",
    "# plt.axis([0, 1.05, 0, 18000])\n",
    "plt.show()"
   ]
  },
  {
   "cell_type": "code",
   "execution_count": 59,
   "metadata": {},
   "outputs": [
    {
     "data": {
      "image/png": "[encoded data removed]",
      "text/plain": [
       "<Figure size 432x288 with 1 Axes>"
      ]
     },
     "metadata": {
      "needs_background": "light"
     },
     "output_type": "display_data"
    }
   ],
   "source": [
    "x=kids_df_high[\"lakids1share\"]\n",
    "y=kids_df_high[\"POP2010\"]\n",
    "\n",
    "kid2plt=plt.scatter(x,y, color=\"green\")\n",
    "plt.xlabel(\"Low access, children age 0-17 at 1 mile, share\")\n",
    "plt.ylabel(\"Population count\")\n",
    "# plt.axis([0, 1.05, 0, 18000])\n",
    "plt.show()"
   ]
  },
  {
   "cell_type": "code",
   "execution_count": 13,
   "metadata": {},
   "outputs": [
    {
     "data": {
      "image/png": "[encoded data removed]",
      "text/plain": [
       "<Figure size 432x288 with 1 Axes>"
      ]
     },
     "metadata": {
      "needs_background": "light"
     },
     "output_type": "display_data"
    }
   ],
   "source": [
    "df_low=df[(df[\"LowIncomeTracts\"] == 1)]\n",
    "total_pop=df[\"lapop1\"].sum()\n",
    "kids_pop=df[\"lakids1\"].sum()\n",
    "seniors_pop=df[\"laseniors1\"].sum()\n",
    "adult_pop=total_pop-kids_pop-seniors_pop\n",
    "x=[\"Kids (age 0-17)\",\"Adults (age 18-64)\",\"Seniors (age 65+)\"]\n",
    "y=[kids_pop,adult_pop, seniors_pop]\n",
    "plt.bar(x, y, color=\"maroon\", width=0.3)\n",
    "plt.title(\"Low Access, Low Income age Groups\")\n",
    "plt.xlabel(\"Age Group\")\n",
    "plt.ylabel(\"Population Count (1xE6)\")\n",
    "plt.show()\n"
   ]
  },
  {
   "cell_type": "code",
   "execution_count": 81,
   "metadata": {},
   "outputs": [
    {
     "data": {
      "image/png": "[encoded data removed]",
      "text/plain": [
       "<Figure size 432x288 with 1 Axes>"
      ]
     },
     "metadata": {
      "needs_background": "light"
     },
     "output_type": "display_data"
    }
   ],
   "source": [
    "df_high=df[(df[\"LILATracts_1And10\"] == 0)]\n",
    "total_pop=df[\"POP2010\"].sum()\n",
    "total_popl=df[\"lapop1\"].sum()\n",
    "total_seniors=df[\"laseniors1\"].sum()\n",
    "x=[\"Total\",\"Low Access, Total \",\"Low access, Seniors\"]\n",
    "y=[total_pop,total_popl, total_seniors]\n",
    "plt.bar(x, y, color=\"blue\", width=0.3)\n",
    "plt.show()"
   ]
  },
  {
   "cell_type": "code",
   "execution_count": 51,
   "metadata": {},
   "outputs": [
    {
     "data": {
      "image/png": "[encoded data removed]",
      "text/plain": [
       "<Figure size 432x288 with 1 Axes>"
      ]
     },
     "metadata": {
      "needs_background": "light"
     },
     "output_type": "display_data"
    }
   ],
   "source": [
    "x=kids_df_low[\"lakids1share\"]\n",
    "num_bins = 5\n",
    "n, bins, patches = plt.hist(x, num_bins, facecolor='blue', alpha=0.5)\n",
    "plt.show()"
   ]
  },
  {
   "cell_type": "code",
   "execution_count": null,
   "metadata": {},
   "outputs": [],
   "source": []
  }
 ],
 "metadata": {
  "kernelspec": {
   "display_name": "Python [conda env:PythonData] *",
   "language": "python",
   "name": "conda-env-PythonData-py"
  },
  "language_info": {
   "codemirror_mode": {
    "name": "ipython",
    "version": 3
   },
   "file_extension": ".py",
   "mimetype": "text/x-python",
   "name": "python",
   "nbconvert_exporter": "python",
   "pygments_lexer": "ipython3",
   "version": "3.6.13"
  }
 },
 "nbformat": 4,
 "nbformat_minor": 5
}
