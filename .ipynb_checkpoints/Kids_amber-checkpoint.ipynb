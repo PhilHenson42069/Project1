{
 "cells": [
  {
   "cell_type": "code",
   "execution_count": 1,
   "metadata": {},
   "outputs": [],
   "source": [
    "import csv\n",
    "import os\n",
    "import pandas as pd\n",
    "import matplotlib.pyplot as plt\n",
    "import scipy.stats as sts\n",
    "import numpy as np\n",
    "# %matplotlib notebook"
   ]
  },
  {
   "cell_type": "code",
   "execution_count": 57,
   "metadata": {},
   "outputs": [
    {
     "data": {
      "text/plain": [
       "(948, 46)"
      ]
     },
     "execution_count": 57,
     "metadata": {},
     "output_type": "execute_result"
    }
   ],
   "source": [
    "csvdata = 'Food_Access_USDA.csv'\n",
    "df = pd.read_csv(csvdata)\n",
    "df.shape"
   ]
  },
  {
   "cell_type": "code",
   "execution_count": 108,
   "metadata": {},
   "outputs": [],
   "source": [
    "# Low income vs non low income\n",
    "low_income_df = df[{\"GEOID10\",\"NAME10\",\"PLNG_REGION\",\"Urban\",\"LowIncomeTracts\",\"lalowihalf\",\"lalowihalfshare\",\"lalowi1\",\"lalowi1share\",\"GlobalID\",\"lapop1\",\"POP2010\",\"lakids1\",\"laseniors1\"}]\n",
    "low_income_df=low_income_df.rename(columns={\"PLNG_REGION\": \"Metro_Atlanta\", \n",
    "                                            \"GlobalID\": \"Global_ID\",\n",
    "                                            \"LowIncomeTracts\": \"Income_Level\", \n",
    "                                            \"lalowihalf\": \"LowAcces_LowIncome.5miles\", \n",
    "                                            \"lalowi1share\": \"LowAccess_LowIncome1mile%\", \n",
    "                                            \"lalowihalfshare\": \"LowAccess_LowIncome.5miles%\", \n",
    "                                            \"lalowi1\": \"LowAccess_LowIncome1mile\", \n",
    "                                            \"GEOID10\": \"Geo_ID\", \n",
    "                                            \"NAME10\": \"Name\",\n",
    "                                            \"lakids1\": \"LowAccess_Kids1Mile\",\n",
    "                                            \"laseniors1\":\"LowAccess_Seniors1Mile\",\n",
    "                                            \"lapop1\":\"LowAccess_1Mile\",\n",
    "                                            \"POP2010\": \"Total_Pop\"})\n",
    "# Drop stuff from dataframe\n",
    "# This drops all 0 values from \"Urban\"\n",
    "low_income_df = low_income_df.loc[(low_income_df[\"Urban\"] != 0) & (low_income_df[\"Metro_Atlanta\"] == \"ARC 10\")]\n",
    "low_income_df\n",
    "# Change values in dataframe\n",
    "# for col in low_income_df.columns():\n",
    "low_income_df.loc[low_income_df[\"Income_Level\"] == 0, \"Income_Level\"] = \"Not Low Income\"\n",
    "low_income_df.loc[low_income_df[\"Income_Level\"] == 1, \"Income_Level\"] = \"Low Income\" \n",
    "\n",
    "# low_income_df.Income_Level = low_income_df.Income_Level.map({ 0 : \"Not Low Income\", 1 : \"Low Income\"})\n",
    "\n",
    "# low_income_df.replace({'Income_Level':{0:\"Not Low Income\",1:\"Low Income\"}},inplace=True)\n",
    "low_income_df\n",
    "df_high=low_income_df[(low_income_df[\"Income_Level\"] == \"Low Income\")]\n",
    "df_low=low_income_df[(low_income_df[\"Income_Level\"] == \"Not Low Income\")]"
   ]
  },
  {
   "cell_type": "code",
   "execution_count": 134,
   "metadata": {},
   "outputs": [
    {
     "data": {
      "image/png": "[encoded data removed]",
      "text/plain": [
       "<Figure size 432x288 with 1 Axes>"
      ]
     },
     "metadata": {
      "needs_background": "light"
     },
     "output_type": "display_data"
    },
    {
     "name": "stdout",
     "output_type": "stream",
     "text": [
      "Total Population: 3907025\n",
      "Kids_Low: 8.217536207287386%\n",
      "Kids_High: 2.4498587026794043%\n",
      "Adults_Low: 89.12166198965427%\n",
      "Adults_High: 96.96344805562799%\n",
      "Seniors_Low: 2.6608018030583374%\n",
      "Seniors_High: 0.5866932416925923%\n"
     ]
    }
   ],
   "source": [
    "barWidth = 0.25\n",
    "# total_pop=df_low[\"LowAccess_LowIncome1mile\"].sum()\n",
    "total_pop=low_income_df['Total_Pop'].sum()\n",
    "kids_pop=df_low[\"LowAccess_Kids1Mile\"].sum()/total_pop\n",
    "kids_pop2=df_high[\"LowAccess_Kids1Mile\"].sum()/total_pop\n",
    "seniors_pop=df_low[\"LowAccess_Seniors1Mile\"].sum()/total_pop\n",
    "seniors_pop2=df_high[\"LowAccess_Seniors1Mile\"].sum()/total_pop\n",
    "adult_pop=1-kids_pop-seniors_pop\n",
    "adult_pop2=1-kids_pop2-seniors_pop2\n",
    "\n",
    "y1=[kids_pop,adult_pop,seniors_pop]\n",
    "y2=[kids_pop2,adult_pop2,seniors_pop2]\n",
    "# y=[kids_pop,adult_pop, seniors_pop]\n",
    "\n",
    "xpos1 = np.arange(len(y1))\n",
    "xpos2 = [x + barWidth for x in xpos1]\n",
    "\n",
    "plt.bar(xpos1,y1, width=barWidth, label = \"Low Income\")\n",
    "plt.bar(xpos2,y2, width=barWidth, label = \"Not Low Income\")\n",
    "xgroups=[\"Kids (age 0-17)\",\"Adults (age 18-64)\",\"Seniors (age 65+)\"]\n",
    "\n",
    "plt.title(\"Low Income & Low Access Population by Age Group\")\n",
    "plt.xlabel(\"Age Group\")\n",
    "plt.xticks([r + barWidth for r in range(len(y1))], xgroups)\n",
    "plt.ylabel(\"Percent of Total Population\")\n",
    "plt.legend()\n",
    "plt.show()\n",
    "print(f\"Total Population: {total_pop}\")\n",
    "print(f\"Kids_Low: {kids_pop*100}%\")\n",
    "print(f\"Kids_High: {kids_pop2*100}%\")\n",
    "print(f\"Adults_Low: {adult_pop*100}%\")\n",
    "print(f\"Adults_High: {adult_pop2*100}%\")\n",
    "print(f\"Seniors_Low: {seniors_pop*100}%\")\n",
    "print(f\"Seniors_High: {seniors_pop2*100}%\")"
   ]
  },
  {
   "cell_type": "code",
   "execution_count": 133,
   "metadata": {
    "scrolled": true
   },
   "outputs": [
    {
     "data": {
      "image/png": "[encoded data removed]",
      "text/plain": [
       "<Figure size 432x288 with 1 Axes>"
      ]
     },
     "metadata": {
      "needs_background": "light"
     },
     "output_type": "display_data"
    },
    {
     "name": "stdout",
     "output_type": "stream",
     "text": [
      "Income_Level\n",
      "Low Income        2.449859\n",
      "Not Low Income    8.217536\n",
      "Name: LowAccess_Kids1Mile, dtype: float64\n"
     ]
    }
   ],
   "source": [
    "income_groups=low_income_df.groupby(\"Income_Level\")\n",
    "lowincome_sum=income_groups['Total_Pop'].sum()\n",
    "kids_sum=(income_groups['LowAccess_Kids1Mile'].sum()/total_pop)*100\n",
    "kids_sum.plot(kind='bar', ylabel=\"Percent of Total Population\", title=\"kids with low access vs income tract\")\n",
    "plt.show()\n",
    "print(kids_sum)"
   ]
  },
  {
   "cell_type": "code",
   "execution_count": null,
   "metadata": {},
   "outputs": [],
   "source": []
  }
 ],
 "metadata": {
  "kernelspec": {
   "display_name": "Python [conda env:PythonData] *",
   "language": "python",
   "name": "conda-env-PythonData-py"
  },
  "language_info": {
   "codemirror_mode": {
    "name": "ipython",
    "version": 3
   },
   "file_extension": ".py",
   "mimetype": "text/x-python",
   "name": "python",
   "nbconvert_exporter": "python",
   "pygments_lexer": "ipython3",
   "version": "3.6.13"
  }
 },
 "nbformat": 4,
 "nbformat_minor": 5
}
